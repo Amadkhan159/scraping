{
 "cells": [
  {
   "cell_type": "code",
   "execution_count": 1,
   "metadata": {},
   "outputs": [],
   "source": [
    "import snscrape.modules.twitter as sntwitter\n",
    "import pandas as pd"
   ]
  },
  {
   "cell_type": "code",
   "execution_count": 28,
   "metadata": {},
   "outputs": [
    {
     "name": "stdout",
     "output_type": "stream",
     "text": [
      "@Rainmaker1973 😮\n",
      "Tesla merch buyable with Dogecoin\n",
      "@cleantechnica Yeah, doesn’t make sense\n",
      "@Teslarati @ResidentSponge Almost all input is error. Car should do the right thing automatically.\n",
      "@askerlee @giffmana Dojo\n",
      "@Rainmaker1973 Yup\n",
      "@wintonARK Turns out … yes\n",
      "@PPathole @Tesla Still working through a lot of challenges with the government\n",
      "@Model3Owners Great explanation!\n",
      "@engineers_feed He was truly exceptional\n",
      "Bizarre anti-environment move by govt of California https://t.co/1OwdBNWbxT\n",
      "@vincent13031925 Tesla is working as fast as possible to support Tesla owners worldwide. \n",
      "\n",
      "Sustainable energy affects everyone on Earth, as we all share one atmosphere.\n",
      "@ID_AA_Carmack 🤣\n",
      "@moxie Accurate\n",
      "@cleantechnica Most people have no idea how fast sustainable energy is growing!\n",
      "@APompliano If the alarming collapse in birth rate continues, civilization will indeed die with a whimper in adult diapers\n",
      "@lexfridman Mind-blowing that over 80% of humans have a smart phone\n",
      "Starship launch &amp; catch tower https://t.co/5mLIQwwu0k\n",
      "https://t.co/uiHoMrpifZ\n",
      "@BLKMDL3 @Tesla It’s our best car ever, along with the Plaid X\n",
      "@WholeMarsBlog It was a mistake to try to use the Elise. In the end, only ~5% of the Elise parts ended up being used. Tesla Roadster is a totally different car.\n"
     ]
    }
   ],
   "source": [
    "query = \"(from:elonmusk) until:2022-01-15 since:2022-01-01\"\n",
    "tweets=[]\n",
    "limit=20\n",
    "for tweet in sntwitter.TwitterSearchScraper(query).get_items():\n",
    "    print(tweet.content)\n",
    "    \n",
    "    if len(tweets)==limit:\n",
    "        break\n",
    "    else:\n",
    "        tweets.append([tweet.date,tweet.username,tweet.content])\n",
    "\n",
    "\n",
    "   \n"
   ]
  },
  {
   "cell_type": "code",
   "execution_count": 26,
   "metadata": {},
   "outputs": [
    {
     "name": "stdout",
     "output_type": "stream",
     "text": [
      "                       Date      User  \\\n",
      "0 2022-01-14 17:58:22+00:00  elonmusk   \n",
      "1 2022-01-14 06:18:50+00:00  elonmusk   \n",
      "2 2022-01-14 04:50:06+00:00  elonmusk   \n",
      "3 2022-01-13 20:28:08+00:00  elonmusk   \n",
      "4 2022-01-13 20:20:42+00:00  elonmusk   \n",
      "5 2022-01-13 13:20:28+00:00  elonmusk   \n",
      "6 2022-01-13 13:01:49+00:00  elonmusk   \n",
      "7 2022-01-12 23:02:42+00:00  elonmusk   \n",
      "8 2022-01-12 07:14:09+00:00  elonmusk   \n",
      "9 2022-01-12 04:25:22+00:00  elonmusk   \n",
      "\n",
      "                                               Tweet  \n",
      "0                                   @Rainmaker1973 😮  \n",
      "1                  Tesla merch buyable with Dogecoin  \n",
      "2            @cleantechnica Yeah, doesn’t make sense  \n",
      "3  @Teslarati @ResidentSponge Almost all input is...  \n",
      "4                           @askerlee @giffmana Dojo  \n",
      "5                                 @Rainmaker1973 Yup  \n",
      "6                         @wintonARK Turns out … yes  \n",
      "7  @PPathole @Tesla Still working through a lot o...  \n",
      "8                   @Model3Owners Great explanation!  \n",
      "9           @engineers_feed He was truly exceptional  \n"
     ]
    }
   ],
   "source": [
    "df=pd.DataFrame(tweets,columns=['Date','User','Tweet'])\n",
    "print(df)"
   ]
  },
  {
   "cell_type": "code",
   "execution_count": null,
   "metadata": {},
   "outputs": [],
   "source": []
  }
 ],
 "metadata": {
  "interpreter": {
   "hash": "26cc6fef2193d33412b06f392a269093e3ee1eca5586ef83426cf475eec71a0c"
  },
  "kernelspec": {
   "display_name": "Python 3.7.0 64-bit",
   "language": "python",
   "name": "python3"
  },
  "language_info": {
   "codemirror_mode": {
    "name": "ipython",
    "version": 3
   },
   "file_extension": ".py",
   "mimetype": "text/x-python",
   "name": "python",
   "nbconvert_exporter": "python",
   "pygments_lexer": "ipython3",
   "version": "3.7.0"
  },
  "orig_nbformat": 4
 },
 "nbformat": 4,
 "nbformat_minor": 2
}
