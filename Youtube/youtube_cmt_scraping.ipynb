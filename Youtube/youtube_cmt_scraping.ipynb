{
 "cells": [
  {
   "cell_type": "code",
   "execution_count": 5,
   "metadata": {},
   "outputs": [],
   "source": [
    "from selenium import webdriver\n",
    "from webdriver_manager.chrome import ChromeDriverManager\n",
    "from bs4 import BeautifulSoup\n",
    "import time"
   ]
  },
  {
   "cell_type": "code",
   "execution_count": 8,
   "metadata": {},
   "outputs": [],
   "source": [
    "def ScrapComment(url):\n",
    "    option = webdriver.ChromeOptions()\n",
    "    option.add_argument(\"--headless\")\n",
    "    driver = webdriver.Chrome(ChromeDriverManager().install())\n",
    "    driver.get(url)\n",
    "    prev_h = 0\n",
    "    while True:\n",
    "        height = driver.execute_script(\"\"\"\n",
    "                function getActualHeight() {\n",
    "                    return Math.max(\n",
    "                        Math.max(document.body.scrollHeight, document.documentElement.scrollHeight),\n",
    "                        Math.max(document.body.offsetHeight, document.documentElement.offsetHeight),\n",
    "                        Math.max(document.body.clientHeight, document.documentElement.clientHeight)\n",
    "                    );\n",
    "                }\n",
    "                return getActualHeight();\n",
    "            \"\"\")\n",
    "        driver.execute_script(f\"window.scrollTo({prev_h},{prev_h + 200})\")\n",
    "        # fix the time sleep value according to your network connection\n",
    "        time.sleep(1)\n",
    "        prev_h +=200  \n",
    "        if prev_h >= height:\n",
    "            break\n",
    "    soup = BeautifulSoup(driver.page_source, 'html.parser')\n",
    "    driver.quit()\n",
    "    title_text_div = soup.select_one('#container h1')\n",
    "    title = title_text_div and title_text_div.text\n",
    "    comment_div = soup.select(\"#content #content-text\")\n",
    "    comment_list = [x.text for x in comment_div]\n",
    "    print(title, comment_list)"
   ]
  },
  {
   "cell_type": "code",
   "execution_count": 9,
   "metadata": {},
   "outputs": [
    {
     "name": "stdout",
     "output_type": "stream",
     "text": [
      "\n"
     ]
    },
    {
     "name": "stderr",
     "output_type": "stream",
     "text": [
      "[WDM] - ====== WebDriver manager ======\n",
      "[WDM] - Current google-chrome version is 102.0.5005\n",
      "[WDM] - Get LATEST chromedriver version for 102.0.5005 google-chrome\n",
      "[WDM] - There is no [win32] chromedriver for browser 102.0.5005 in cache\n",
      "[WDM] - About to download new driver from https://chromedriver.storage.googleapis.com/102.0.5005.61/chromedriver_win32.zip\n",
      "[WDM] - Driver has been saved in cache [C:\\Users\\Amadk\\.wdm\\drivers\\chromedriver\\win32\\102.0.5005.61]\n",
      "c:\\Users\\Amadk\\AppData\\Local\\Programs\\Python\\Python37\\lib\\site-packages\\ipykernel_launcher.py:4: DeprecationWarning: executable_path has been deprecated, please pass in a Service object\n",
      "  after removing the cwd from sys.path.\n"
     ]
    },
    {
     "name": "stdout",
     "output_type": "stream",
     "text": [
      "How to Scrape Data from Youtube using Python | Web scrapping | Python Projects - #16 ['you are awesome!thank you!', 'can you tell me what drive have you used, the voice was not clear in that part of the video', 'How do I scrape the titles of VIDEOS instead of CHANNELS ?', 'How to scrape data from age restricted videos?', 'Youtube channels ki email kese scrape karen?\\nPlease reply fast I need it.', 'I want to create dataset for sentiment analysis that contains only top 10 trending videos with comments, view counts, like/dislike counts that stores in excel sheet. How ?', 'plz share the code link', 'Bhai python me error aa raha hai aap apni email do mai pic bhejta hu \\nPlzz help bro\\nPlzz', 'arre bhai mera ho gya mene crome drive use kia hai but smj nhi aaa rha hai data save kha hor ha hai jo youtube se extract ho rha hai \\ncan you give your Linkedin id or insta or mail  id so that i can contact you', 'bro mera chrome driver d location maa woo get kase karoonn', 'multiple links ko kesy scrap karain?', 'I cant understand', 'Hi', 'how can you write the title in english and speak in your own language.']\n"
     ]
    }
   ],
   "source": [
    "if __name__ == \"__main__\":\n",
    "\n",
    "    urls = [\n",
    "        \"https://www.youtube.com/watch?v=cgNQgcUgq0U\",\n",
    "        \"https://www.youtube.com/watch?v=MkE_EwO76b0\",\n",
    "        'https://www.youtube.com/watch?v=XVv6mJpFOb0',\n",
    "    ]\n",
    "    ScrapComment(urls[0])"
   ]
  },
  {
   "cell_type": "code",
   "execution_count": null,
   "metadata": {},
   "outputs": [],
   "source": []
  }
 ],
 "metadata": {
  "interpreter": {
   "hash": "26cc6fef2193d33412b06f392a269093e3ee1eca5586ef83426cf475eec71a0c"
  },
  "kernelspec": {
   "display_name": "Python 3.7.0 64-bit",
   "language": "python",
   "name": "python3"
  },
  "language_info": {
   "codemirror_mode": {
    "name": "ipython",
    "version": 3
   },
   "file_extension": ".py",
   "mimetype": "text/x-python",
   "name": "python",
   "nbconvert_exporter": "python",
   "pygments_lexer": "ipython3",
   "version": "3.7.0"
  },
  "orig_nbformat": 4
 },
 "nbformat": 4,
 "nbformat_minor": 2
}
